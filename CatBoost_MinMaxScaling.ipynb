{
  "cells": [
    {
      "cell_type": "code",
      "execution_count": null,
      "metadata": {
        "colab": {
          "base_uri": "https://localhost:8080/"
        },
        "id": "wiAsuY2Kd2JF",
        "outputId": "c0d6f334-e360-4788-dfe5-d46ae0faef02"
      },
      "outputs": [
        {
          "name": "stdout",
          "output_type": "stream",
          "text": [
            "Drive already mounted at /content/drive; to attempt to forcibly remount, call drive.mount(\"/content/drive\", force_remount=True).\n"
          ]
        }
      ],
      "source": [
        "from google.colab import drive\n",
        "drive.mount('/content/drive')"
      ]
    },
    {
      "cell_type": "code",
      "execution_count": null,
      "metadata": {
        "colab": {
          "base_uri": "https://localhost:8080/"
        },
        "id": "p-c6OQSNeQO8",
        "outputId": "3c496b9e-6938-4639-f2c4-cc12782b8754"
      },
      "outputs": [
        {
          "name": "stdout",
          "output_type": "stream",
          "text": [
            "Collecting catboost\n",
            "  Downloading catboost-1.2.5-cp310-cp310-manylinux2014_x86_64.whl (98.2 MB)\n",
            "\u001b[2K     \u001b[90m━━━━━━━━━━━━━━━━━━━━━━━━━━━━━━━━━━━━━━━━\u001b[0m \u001b[32m98.2/98.2 MB\u001b[0m \u001b[31m17.3 MB/s\u001b[0m eta \u001b[36m0:00:00\u001b[0m\n",
            "\u001b[?25hRequirement already satisfied: graphviz in /usr/local/lib/python3.10/dist-packages (from catboost) (0.20.3)\n",
            "Requirement already satisfied: matplotlib in /usr/local/lib/python3.10/dist-packages (from catboost) (3.7.1)\n",
            "Requirement already satisfied: numpy>=1.16.0 in /usr/local/lib/python3.10/dist-packages (from catboost) (1.25.2)\n",
            "Requirement already satisfied: pandas>=0.24 in /usr/local/lib/python3.10/dist-packages (from catboost) (2.0.3)\n",
            "Requirement already satisfied: scipy in /usr/local/lib/python3.10/dist-packages (from catboost) (1.11.4)\n",
            "Requirement already satisfied: plotly in /usr/local/lib/python3.10/dist-packages (from catboost) (5.15.0)\n",
            "Requirement already satisfied: six in /usr/local/lib/python3.10/dist-packages (from catboost) (1.16.0)\n",
            "Requirement already satisfied: python-dateutil>=2.8.2 in /usr/local/lib/python3.10/dist-packages (from pandas>=0.24->catboost) (2.8.2)\n",
            "Requirement already satisfied: pytz>=2020.1 in /usr/local/lib/python3.10/dist-packages (from pandas>=0.24->catboost) (2023.4)\n",
            "Requirement already satisfied: tzdata>=2022.1 in /usr/local/lib/python3.10/dist-packages (from pandas>=0.24->catboost) (2024.1)\n",
            "Requirement already satisfied: contourpy>=1.0.1 in /usr/local/lib/python3.10/dist-packages (from matplotlib->catboost) (1.2.1)\n",
            "Requirement already satisfied: cycler>=0.10 in /usr/local/lib/python3.10/dist-packages (from matplotlib->catboost) (0.12.1)\n",
            "Requirement already satisfied: fonttools>=4.22.0 in /usr/local/lib/python3.10/dist-packages (from matplotlib->catboost) (4.53.1)\n",
            "Requirement already satisfied: kiwisolver>=1.0.1 in /usr/local/lib/python3.10/dist-packages (from matplotlib->catboost) (1.4.5)\n",
            "Requirement already satisfied: packaging>=20.0 in /usr/local/lib/python3.10/dist-packages (from matplotlib->catboost) (24.1)\n",
            "Requirement already satisfied: pillow>=6.2.0 in /usr/local/lib/python3.10/dist-packages (from matplotlib->catboost) (9.4.0)\n",
            "Requirement already satisfied: pyparsing>=2.3.1 in /usr/local/lib/python3.10/dist-packages (from matplotlib->catboost) (3.1.2)\n",
            "Requirement already satisfied: tenacity>=6.2.0 in /usr/local/lib/python3.10/dist-packages (from plotly->catboost) (8.5.0)\n",
            "Installing collected packages: catboost\n",
            "Successfully installed catboost-1.2.5\n"
          ]
        }
      ],
      "source": [
        "!pip install catboost"
      ]
    },
    {
      "cell_type": "code",
      "execution_count": 10,
      "metadata": {
        "id": "hvQ2VpQpadVL"
      },
      "outputs": [],
      "source": [
        "## import packages\n",
        "from catboost import CatBoostClassifier, Pool\n",
        "import numpy as np\n",
        "import pandas as pd\n",
        "import polars as pl\n",
        "from sklearn.metrics import roc_auc_score\n",
        "from sklearn.model_selection import StratifiedKFold\n",
        "from sklearn.preprocessing import StandardScaler, MinMaxScaler\n",
        "import warnings\n",
        "warnings.simplefilter('ignore')"
      ]
    },
    {
      "cell_type": "code",
      "execution_count": 13,
      "metadata": {
        "id": "8h2U1i1jdzW0"
      },
      "outputs": [],
      "source": [
        "## load data\n",
        "train = pl.read_csv(r'playground-series-s4e7\\train.csv')\n",
        "test = pl.read_csv(r'playground-series-s4e7\\test.csv')\n",
        "test = test.with_columns(pl.lit(0).cast(pl.Int64).alias('Response'))"
      ]
    },
    {
      "cell_type": "code",
      "execution_count": 21,
      "metadata": {
        "colab": {
          "base_uri": "https://localhost:8080/",
          "height": 443
        },
        "id": "WaRKZMD-ebI9",
        "outputId": "fdef110a-9cc6-4c47-a6e2-a871d2596db4"
      },
      "outputs": [
        {
          "data": {
            "text/html": [
              "<div><style>\n",
              ".dataframe > thead > tr,\n",
              ".dataframe > tbody > tr {\n",
              "  text-align: right;\n",
              "  white-space: pre-wrap;\n",
              "}\n",
              "</style>\n",
              "<small>shape: (11_504_798, 12)</small><table border=\"1\" class=\"dataframe\"><thead><tr><th>id</th><th>Gender</th><th>Age</th><th>Driving_License</th><th>Region_Code</th><th>Previously_Insured</th><th>Vehicle_Age</th><th>Vehicle_Damage</th><th>Annual_Premium</th><th>Policy_Sales_Channel</th><th>Vintage</th><th>Response</th></tr><tr><td>i64</td><td>str</td><td>i64</td><td>i64</td><td>f64</td><td>i64</td><td>str</td><td>str</td><td>f64</td><td>f64</td><td>i64</td><td>i64</td></tr></thead><tbody><tr><td>0</td><td>&quot;Male&quot;</td><td>21</td><td>1</td><td>35.0</td><td>0</td><td>&quot;1-2 Year&quot;</td><td>&quot;Yes&quot;</td><td>65101.0</td><td>124.0</td><td>187</td><td>0</td></tr><tr><td>1</td><td>&quot;Male&quot;</td><td>43</td><td>1</td><td>28.0</td><td>0</td><td>&quot;&gt; 2 Years&quot;</td><td>&quot;Yes&quot;</td><td>58911.0</td><td>26.0</td><td>288</td><td>1</td></tr><tr><td>2</td><td>&quot;Female&quot;</td><td>25</td><td>1</td><td>14.0</td><td>1</td><td>&quot;&lt; 1 Year&quot;</td><td>&quot;No&quot;</td><td>38043.0</td><td>152.0</td><td>254</td><td>0</td></tr><tr><td>3</td><td>&quot;Female&quot;</td><td>35</td><td>1</td><td>1.0</td><td>0</td><td>&quot;1-2 Year&quot;</td><td>&quot;Yes&quot;</td><td>2630.0</td><td>156.0</td><td>76</td><td>0</td></tr><tr><td>4</td><td>&quot;Female&quot;</td><td>36</td><td>1</td><td>15.0</td><td>1</td><td>&quot;1-2 Year&quot;</td><td>&quot;No&quot;</td><td>31951.0</td><td>152.0</td><td>294</td><td>0</td></tr><tr><td>&hellip;</td><td>&hellip;</td><td>&hellip;</td><td>&hellip;</td><td>&hellip;</td><td>&hellip;</td><td>&hellip;</td><td>&hellip;</td><td>&hellip;</td><td>&hellip;</td><td>&hellip;</td><td>&hellip;</td></tr><tr><td>11504793</td><td>&quot;Male&quot;</td><td>48</td><td>1</td><td>6.0</td><td>0</td><td>&quot;1-2 Year&quot;</td><td>&quot;Yes&quot;</td><td>27412.0</td><td>26.0</td><td>218</td><td>0</td></tr><tr><td>11504794</td><td>&quot;Female&quot;</td><td>26</td><td>1</td><td>36.0</td><td>0</td><td>&quot;&lt; 1 Year&quot;</td><td>&quot;Yes&quot;</td><td>29509.0</td><td>152.0</td><td>115</td><td>1</td></tr><tr><td>11504795</td><td>&quot;Female&quot;</td><td>29</td><td>1</td><td>32.0</td><td>1</td><td>&quot;&lt; 1 Year&quot;</td><td>&quot;No&quot;</td><td>2630.0</td><td>152.0</td><td>189</td><td>0</td></tr><tr><td>11504796</td><td>&quot;Female&quot;</td><td>51</td><td>1</td><td>28.0</td><td>0</td><td>&quot;1-2 Year&quot;</td><td>&quot;Yes&quot;</td><td>48443.0</td><td>26.0</td><td>274</td><td>1</td></tr><tr><td>11504797</td><td>&quot;Male&quot;</td><td>25</td><td>1</td><td>28.0</td><td>1</td><td>&quot;&lt; 1 Year&quot;</td><td>&quot;No&quot;</td><td>32855.0</td><td>152.0</td><td>189</td><td>0</td></tr></tbody></table></div>"
            ],
            "text/plain": [
              "shape: (11_504_798, 12)\n",
              "┌──────────┬────────┬─────┬───────────────┬───┬───────────────┬───────────────┬─────────┬──────────┐\n",
              "│ id       ┆ Gender ┆ Age ┆ Driving_Licen ┆ … ┆ Annual_Premiu ┆ Policy_Sales_ ┆ Vintage ┆ Response │\n",
              "│ ---      ┆ ---    ┆ --- ┆ se            ┆   ┆ m             ┆ Channel       ┆ ---     ┆ ---      │\n",
              "│ i64      ┆ str    ┆ i64 ┆ ---           ┆   ┆ ---           ┆ ---           ┆ i64     ┆ i64      │\n",
              "│          ┆        ┆     ┆ i64           ┆   ┆ f64           ┆ f64           ┆         ┆          │\n",
              "╞══════════╪════════╪═════╪═══════════════╪═══╪═══════════════╪═══════════════╪═════════╪══════════╡\n",
              "│ 0        ┆ Male   ┆ 21  ┆ 1             ┆ … ┆ 65101.0       ┆ 124.0         ┆ 187     ┆ 0        │\n",
              "│ 1        ┆ Male   ┆ 43  ┆ 1             ┆ … ┆ 58911.0       ┆ 26.0          ┆ 288     ┆ 1        │\n",
              "│ 2        ┆ Female ┆ 25  ┆ 1             ┆ … ┆ 38043.0       ┆ 152.0         ┆ 254     ┆ 0        │\n",
              "│ 3        ┆ Female ┆ 35  ┆ 1             ┆ … ┆ 2630.0        ┆ 156.0         ┆ 76      ┆ 0        │\n",
              "│ 4        ┆ Female ┆ 36  ┆ 1             ┆ … ┆ 31951.0       ┆ 152.0         ┆ 294     ┆ 0        │\n",
              "│ …        ┆ …      ┆ …   ┆ …             ┆ … ┆ …             ┆ …             ┆ …       ┆ …        │\n",
              "│ 11504793 ┆ Male   ┆ 48  ┆ 1             ┆ … ┆ 27412.0       ┆ 26.0          ┆ 218     ┆ 0        │\n",
              "│ 11504794 ┆ Female ┆ 26  ┆ 1             ┆ … ┆ 29509.0       ┆ 152.0         ┆ 115     ┆ 1        │\n",
              "│ 11504795 ┆ Female ┆ 29  ┆ 1             ┆ … ┆ 2630.0        ┆ 152.0         ┆ 189     ┆ 0        │\n",
              "│ 11504796 ┆ Female ┆ 51  ┆ 1             ┆ … ┆ 48443.0       ┆ 26.0          ┆ 274     ┆ 1        │\n",
              "│ 11504797 ┆ Male   ┆ 25  ┆ 1             ┆ … ┆ 32855.0       ┆ 152.0         ┆ 189     ┆ 0        │\n",
              "└──────────┴────────┴─────┴───────────────┴───┴───────────────┴───────────────┴─────────┴──────────┘"
            ]
          },
          "execution_count": 21,
          "metadata": {},
          "output_type": "execute_result"
        }
      ],
      "source": [
        "# 데이터 준비\n",
        "train_data = train.clone()\n",
        "test_data = test.clone()\n",
        "\n",
        "# train_data와 test_data 합치기\n",
        "df = pl.concat([train_data, test_data])\n",
        "\n",
        "df = df.with_columns([\n",
        "    pl.col('Gender').replace({'Male': 0, 'Female': 1}).cast(pl.Int32),\n",
        "    pl.col('Region_Code').cast(int),\n",
        "    pl.col('Vehicle_Age').replace({'< 1 Year': 0, '1-2 Year': 1, '> 2 Years': 2}).cast(pl.Int32),\n",
        "    pl.col('Vehicle_Damage').replace({'No': 0, 'Yes': 1}).cast(pl.Int32),\n",
        "    pl.col('Annual_Premium').cast(int),\n",
        "    pl.col('Policy_Sales_Channel').cast(int)\n",
        "])\n",
        "\n",
        "df = df.with_columns([\n",
        "    (pl.Series(pd.factorize((df['Previously_Insured'].cast(str) + df['Annual_Premium'].cast(str)).to_numpy())[0])).alias('Previously_Insured_Annual_Premium'),\n",
        "    (pl.Series(pd.factorize((df['Previously_Insured'].cast(str) + df['Vehicle_Age'].cast(str)).to_numpy())[0])).alias('Previously_Insured_Vehicle_Age'),\n",
        "    (pl.Series(pd.factorize((df['Previously_Insured'].cast(str) + df['Vehicle_Damage'].cast(str)).to_numpy())[0])).alias('Previously_Insured_Vehicle_Damage'),\n",
        "    (pl.Series(pd.factorize((df['Previously_Insured'].cast(str) + df['Vintage'].cast(str)).to_numpy())[0])).alias('Previously_Insured_Vintage')\n",
        "])\n",
        "\n",
        "minmax_scaler = MinMaxScaler()\n",
        "df[['Annual_Premium_MinMax', 'Vintage_MinMax']] = minmax_scaler.fit_transform(df[['Annual_Premium', 'Vintage']])\n",
        "\n",
        "train_df = df[:train_data.shape[0]].to_pandas()\n",
        "test_df = df[train_data.shape[0]:].to_pandas()\n",
        "\n",
        "cat_features = ['Gender', 'Region_Code', 'Vehicle_Age', 'Vehicle_Damage', 'Previously_Insured', 'Policy_Sales_Channel', \n",
        "                'Previously_Insured_Annual_Premium', 'Previously_Insured_Vehicle_Age', 'Previously_Insured_Vehicle_Damage', 'Previously_Insured_Vintage']\n",
        "\n",
        "train_df"
      ]
    },
    {
      "cell_type": "code",
      "execution_count": 22,
      "metadata": {
        "colab": {
          "base_uri": "https://localhost:8080/"
        },
        "id": "V4Vdr_b4edPu",
        "outputId": "5abbc05b-62f7-439d-eded-d25ff8ec7143"
      },
      "outputs": [
        {
          "name": "stdout",
          "output_type": "stream",
          "text": [
            "### Fold 1 Training ###\n"
          ]
        },
        {
          "name": "stderr",
          "output_type": "stream",
          "text": [
            "Default metric period is 5 because AUC is/are not implemented for GPU\n"
          ]
        },
        {
          "name": "stdout",
          "output_type": "stream",
          "text": [
            "0:\ttest: 0.8765283\tbest: 0.8765283 (0)\ttotal: 758ms\tremaining: 1h 3m 7s\n",
            "1000:\ttest: 0.8943628\tbest: 0.8943628 (1000)\ttotal: 13m 51s\tremaining: 55m 20s\n",
            "2000:\ttest: 0.8947250\tbest: 0.8947250 (2000)\ttotal: 27m 41s\tremaining: 41m 30s\n",
            "3000:\ttest: 0.8948618\tbest: 0.8948620 (2995)\ttotal: 48m 43s\tremaining: 32m 27s\n",
            "bestTest = 0.8949000239\n",
            "bestIteration = 3549\n",
            "Shrink model to first 3550 iterations.\n",
            "Fold 1 AUC: 0.89490\n",
            "\n",
            "### Fold 2 Training ###\n"
          ]
        },
        {
          "name": "stderr",
          "output_type": "stream",
          "text": [
            "Default metric period is 5 because AUC is/are not implemented for GPU\n"
          ]
        },
        {
          "name": "stdout",
          "output_type": "stream",
          "text": [
            "0:\ttest: 0.8757312\tbest: 0.8757312 (0)\ttotal: 563ms\tremaining: 46m 56s\n",
            "1000:\ttest: 0.8939885\tbest: 0.8939885 (1000)\ttotal: 18m 43s\tremaining: 1h 14m 50s\n",
            "2000:\ttest: 0.8943479\tbest: 0.8943481 (1999)\ttotal: 43m 10s\tremaining: 1h 4m 43s\n",
            "3000:\ttest: 0.8944547\tbest: 0.8944553 (2957)\ttotal: 1h 6m 46s\tremaining: 44m 28s\n",
            "4000:\ttest: 0.8945054\tbest: 0.8945063 (3993)\ttotal: 1h 27m 4s\tremaining: 21m 44s\n",
            "bestTest = 0.8945185542\n",
            "bestIteration = 4722\n",
            "Shrink model to first 4723 iterations.\n",
            "Fold 2 AUC: 0.89452\n",
            "\n",
            "### Fold 3 Training ###\n"
          ]
        },
        {
          "name": "stderr",
          "output_type": "stream",
          "text": [
            "Default metric period is 5 because AUC is/are not implemented for GPU\n"
          ]
        },
        {
          "name": "stdout",
          "output_type": "stream",
          "text": [
            "0:\ttest: 0.8763183\tbest: 0.8763183 (0)\ttotal: 643ms\tremaining: 53m 32s\n",
            "1000:\ttest: 0.8942968\tbest: 0.8942968 (1000)\ttotal: 14m 9s\tremaining: 56m 35s\n",
            "2000:\ttest: 0.8946223\tbest: 0.8946223 (2000)\ttotal: 32m 40s\tremaining: 48m 57s\n",
            "3000:\ttest: 0.8947343\tbest: 0.8947343 (3000)\ttotal: 57m 4s\tremaining: 38m\n",
            "4000:\ttest: 0.8947803\tbest: 0.8947819 (3969)\ttotal: 1h 14m 13s\tremaining: 18m 31s\n",
            "bestTest = 0.8947911859\n",
            "bestIteration = 4339\n",
            "Shrink model to first 4340 iterations.\n",
            "Fold 3 AUC: 0.89479\n",
            "\n",
            "### Fold 4 Training ###\n"
          ]
        },
        {
          "name": "stderr",
          "output_type": "stream",
          "text": [
            "Default metric period is 5 because AUC is/are not implemented for GPU\n"
          ]
        },
        {
          "name": "stdout",
          "output_type": "stream",
          "text": [
            "0:\ttest: 0.8763419\tbest: 0.8763419 (0)\ttotal: 838ms\tremaining: 1h 9m 49s\n",
            "1000:\ttest: 0.8941040\tbest: 0.8941040 (1000)\ttotal: 14m 29s\tremaining: 57m 53s\n",
            "2000:\ttest: 0.8944540\tbest: 0.8944540 (2000)\ttotal: 34m 6s\tremaining: 51m 6s\n",
            "3000:\ttest: 0.8945985\tbest: 0.8945985 (3000)\ttotal: 50m 37s\tremaining: 33m 43s\n",
            "4000:\ttest: 0.8946546\tbest: 0.8946548 (3995)\ttotal: 1h 6m 46s\tremaining: 16m 40s\n",
            "4999:\ttest: 0.8946835\tbest: 0.8946884 (4921)\ttotal: 1h 22m 52s\tremaining: 0us\n",
            "bestTest = 0.8946884274\n",
            "bestIteration = 4921\n",
            "Shrink model to first 4922 iterations.\n",
            "Fold 4 AUC: 0.89469\n",
            "\n",
            "### Fold 5 Training ###\n"
          ]
        },
        {
          "name": "stderr",
          "output_type": "stream",
          "text": [
            "Default metric period is 5 because AUC is/are not implemented for GPU\n"
          ]
        },
        {
          "name": "stdout",
          "output_type": "stream",
          "text": [
            "0:\ttest: 0.8768645\tbest: 0.8768645 (0)\ttotal: 629ms\tremaining: 52m 26s\n",
            "1000:\ttest: 0.8947490\tbest: 0.8947490 (999)\ttotal: 13m 2s\tremaining: 52m 5s\n",
            "2000:\ttest: 0.8951185\tbest: 0.8951187 (1999)\ttotal: 26m 22s\tremaining: 39m 32s\n",
            "3000:\ttest: 0.8952327\tbest: 0.8952327 (3000)\ttotal: 40m 3s\tremaining: 26m 40s\n",
            "4000:\ttest: 0.8952767\tbest: 0.8952767 (4000)\ttotal: 53m 40s\tremaining: 13m 23s\n",
            "bestTest = 0.8952852488\n",
            "bestIteration = 4334\n",
            "Shrink model to first 4335 iterations.\n",
            "Fold 5 AUC: 0.89529\n",
            "\n",
            "\n",
            "Overall AUC: 0.89484 +/- 0.00026\n"
          ]
        }
      ],
      "source": [
        "## train model\n",
        "aucs = []\n",
        "preds = []\n",
        "\n",
        "skf = StratifiedKFold(n_splits=5, shuffle=True, random_state=42)\n",
        "\n",
        "for fold, (train_idx, valid_idx) in enumerate(skf.split(train_df, train_df['Response'])):\n",
        "    print(f'### Fold {fold+1} Training ###')\n",
        "\n",
        "    X_train = train_df.loc[train_idx, [c for c in train_df.columns if c not in ['id', 'Response']]]\n",
        "    y_train = train_df.loc[train_idx, 'Response']\n",
        "    X_valid = train_df.loc[valid_idx, X_train.columns]\n",
        "    y_valid = train_df.loc[valid_idx, 'Response']\n",
        "    X_test = test_df[X_train.columns]\n",
        "\n",
        "    X_train_pool = Pool(X_train, y_train, cat_features=cat_features)\n",
        "    X_valid_pool = Pool(X_valid, y_valid, cat_features=cat_features)\n",
        "    X_test_pool = Pool(X_test, cat_features=cat_features)\n",
        "\n",
        "    model = CatBoostClassifier(\n",
        "        loss_function='Logloss',\n",
        "        eval_metric='AUC',\n",
        "        learning_rate=0.05,\n",
        "        iterations=5000,\n",
        "        depth=9,\n",
        "        random_strength=0,\n",
        "        l2_leaf_reg=0.5,\n",
        "        task_type='GPU',\n",
        "        random_seed=42,\n",
        "        verbose=False\n",
        "    )\n",
        "\n",
        "    model.fit(X=X_train_pool, eval_set=X_valid_pool, verbose=1000, early_stopping_rounds=200)\n",
        "\n",
        "    pred_valid = model.predict_proba(X_valid_pool)[:, 1]\n",
        "    preds.append(model.predict_proba(X_test_pool)[:, 1])\n",
        "\n",
        "    auc = roc_auc_score(y_valid, pred_valid)\n",
        "    aucs.append(auc)\n",
        "\n",
        "    print(f'Fold {fold+1} AUC: {auc:.5f}\\n')\n",
        "\n",
        "print(f'\\nOverall AUC: {np.mean(aucs):.5f} +/- {np.std(aucs):.5f}')"
      ]
    },
    {
      "cell_type": "code",
      "execution_count": 23,
      "metadata": {
        "colab": {
          "base_uri": "https://localhost:8080/",
          "height": 423
        },
        "id": "SBgvMztaei1m",
        "outputId": "18928d42-df7f-4db8-8355-fdf43bf8e409"
      },
      "outputs": [
        {
          "ename": "TypeError",
          "evalue": "DataFrame object does not support `Series` assignment by index\n\nUse `DataFrame.with_columns`.",
          "output_type": "error",
          "traceback": [
            "\u001b[1;31m---------------------------------------------------------------------------\u001b[0m",
            "\u001b[1;31mTypeError\u001b[0m                                 Traceback (most recent call last)",
            "\u001b[1;32m~\\AppData\\Local\\Temp\\ipykernel_1168\\2789976011.py\u001b[0m in \u001b[0;36m?\u001b[1;34m()\u001b[0m\n\u001b[1;32m----> 3\u001b[1;33m \u001b[1;31m## create submission\u001b[0m\u001b[1;33m\u001b[0m\u001b[1;33m\u001b[0m\u001b[1;33m\u001b[0m\u001b[0m\n\u001b[0m\u001b[0;32m      4\u001b[0m \u001b[0msubmission\u001b[0m \u001b[1;33m=\u001b[0m \u001b[0mtest\u001b[0m\u001b[1;33m[\u001b[0m\u001b[1;33m[\u001b[0m\u001b[1;34m'id'\u001b[0m\u001b[1;33m]\u001b[0m\u001b[1;33m]\u001b[0m\u001b[1;33m\u001b[0m\u001b[1;33m\u001b[0m\u001b[0m\n\u001b[0;32m      5\u001b[0m \u001b[0msubmission\u001b[0m\u001b[1;33m[\u001b[0m\u001b[1;34m'Response'\u001b[0m\u001b[1;33m]\u001b[0m \u001b[1;33m=\u001b[0m \u001b[0mnp\u001b[0m\u001b[1;33m.\u001b[0m\u001b[0mmean\u001b[0m\u001b[1;33m(\u001b[0m\u001b[0mpreds\u001b[0m\u001b[1;33m,\u001b[0m \u001b[0maxis\u001b[0m\u001b[1;33m=\u001b[0m\u001b[1;36m0\u001b[0m\u001b[1;33m)\u001b[0m\u001b[1;33m\u001b[0m\u001b[1;33m\u001b[0m\u001b[0m\n\u001b[0;32m      6\u001b[0m \u001b[1;33m\u001b[0m\u001b[0m\n",
            "\u001b[1;32mc:\\Users\\kuun1\\miniconda3\\envs\\kaaaagle\\lib\\site-packages\\polars\\dataframe\\frame.py\u001b[0m in \u001b[0;36m?\u001b[1;34m(self, key, value)\u001b[0m\n\u001b[0;32m   1192\u001b[0m             msg = (\n\u001b[0;32m   1193\u001b[0m                 \u001b[1;34m\"DataFrame object does not support `Series` assignment by index\"\u001b[0m\u001b[1;33m\u001b[0m\u001b[1;33m\u001b[0m\u001b[0m\n\u001b[0;32m   1194\u001b[0m                 \u001b[1;34m\"\\n\\nUse `DataFrame.with_columns`.\"\u001b[0m\u001b[1;33m\u001b[0m\u001b[1;33m\u001b[0m\u001b[0m\n\u001b[0;32m   1195\u001b[0m             )\n\u001b[1;32m-> 1196\u001b[1;33m             \u001b[1;32mraise\u001b[0m \u001b[0mTypeError\u001b[0m\u001b[1;33m(\u001b[0m\u001b[0mmsg\u001b[0m\u001b[1;33m)\u001b[0m\u001b[1;33m\u001b[0m\u001b[1;33m\u001b[0m\u001b[0m\n\u001b[0m\u001b[0;32m   1197\u001b[0m \u001b[1;33m\u001b[0m\u001b[0m\n\u001b[0;32m   1198\u001b[0m         \u001b[1;31m# df[[\"C\", \"D\"]]\u001b[0m\u001b[1;33m\u001b[0m\u001b[1;33m\u001b[0m\u001b[1;33m\u001b[0m\u001b[0m\n\u001b[0;32m   1199\u001b[0m         \u001b[1;32melif\u001b[0m \u001b[0misinstance\u001b[0m\u001b[1;33m(\u001b[0m\u001b[0mkey\u001b[0m\u001b[1;33m,\u001b[0m \u001b[0mlist\u001b[0m\u001b[1;33m)\u001b[0m\u001b[1;33m:\u001b[0m\u001b[1;33m\u001b[0m\u001b[1;33m\u001b[0m\u001b[0m\n",
            "\u001b[1;31mTypeError\u001b[0m: DataFrame object does not support `Series` assignment by index\n\nUse `DataFrame.with_columns`."
          ]
        }
      ],
      "source": [
        "## create submission\n",
        "submission = test[['id']]\n",
        "submission['Response'] = np.mean(preds, axis=0)\n",
        "\n",
        "submission.to_csv('submission_240717_2.csv', index=False)\n",
        "submission"
      ]
    }
  ],
  "metadata": {
    "accelerator": "GPU",
    "colab": {
      "gpuType": "L4",
      "machine_shape": "hm",
      "provenance": []
    },
    "kernelspec": {
      "display_name": "Python 3",
      "name": "python3"
    },
    "language_info": {
      "codemirror_mode": {
        "name": "ipython",
        "version": 3
      },
      "file_extension": ".py",
      "mimetype": "text/x-python",
      "name": "python",
      "nbconvert_exporter": "python",
      "pygments_lexer": "ipython3",
      "version": "3.8.19"
    }
  },
  "nbformat": 4,
  "nbformat_minor": 0
}
