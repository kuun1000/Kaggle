{
  "cells": [
    {
      "cell_type": "code",
      "execution_count": null,
      "metadata": {
        "colab": {
          "base_uri": "https://localhost:8080/"
        },
        "id": "wiAsuY2Kd2JF",
        "outputId": "c0d6f334-e360-4788-dfe5-d46ae0faef02"
      },
      "outputs": [
        {
          "name": "stdout",
          "output_type": "stream",
          "text": [
            "Drive already mounted at /content/drive; to attempt to forcibly remount, call drive.mount(\"/content/drive\", force_remount=True).\n"
          ]
        }
      ],
      "source": [
        "from google.colab import drive\n",
        "drive.mount('/content/drive')"
      ]
    },
    {
      "cell_type": "code",
      "execution_count": null,
      "metadata": {
        "colab": {
          "base_uri": "https://localhost:8080/"
        },
        "id": "p-c6OQSNeQO8",
        "outputId": "3c496b9e-6938-4639-f2c4-cc12782b8754"
      },
      "outputs": [
        {
          "name": "stdout",
          "output_type": "stream",
          "text": [
            "Collecting catboost\n",
            "  Downloading catboost-1.2.5-cp310-cp310-manylinux2014_x86_64.whl (98.2 MB)\n",
            "\u001b[2K     \u001b[90m━━━━━━━━━━━━━━━━━━━━━━━━━━━━━━━━━━━━━━━━\u001b[0m \u001b[32m98.2/98.2 MB\u001b[0m \u001b[31m17.3 MB/s\u001b[0m eta \u001b[36m0:00:00\u001b[0m\n",
            "\u001b[?25hRequirement already satisfied: graphviz in /usr/local/lib/python3.10/dist-packages (from catboost) (0.20.3)\n",
            "Requirement already satisfied: matplotlib in /usr/local/lib/python3.10/dist-packages (from catboost) (3.7.1)\n",
            "Requirement already satisfied: numpy>=1.16.0 in /usr/local/lib/python3.10/dist-packages (from catboost) (1.25.2)\n",
            "Requirement already satisfied: pandas>=0.24 in /usr/local/lib/python3.10/dist-packages (from catboost) (2.0.3)\n",
            "Requirement already satisfied: scipy in /usr/local/lib/python3.10/dist-packages (from catboost) (1.11.4)\n",
            "Requirement already satisfied: plotly in /usr/local/lib/python3.10/dist-packages (from catboost) (5.15.0)\n",
            "Requirement already satisfied: six in /usr/local/lib/python3.10/dist-packages (from catboost) (1.16.0)\n",
            "Requirement already satisfied: python-dateutil>=2.8.2 in /usr/local/lib/python3.10/dist-packages (from pandas>=0.24->catboost) (2.8.2)\n",
            "Requirement already satisfied: pytz>=2020.1 in /usr/local/lib/python3.10/dist-packages (from pandas>=0.24->catboost) (2023.4)\n",
            "Requirement already satisfied: tzdata>=2022.1 in /usr/local/lib/python3.10/dist-packages (from pandas>=0.24->catboost) (2024.1)\n",
            "Requirement already satisfied: contourpy>=1.0.1 in /usr/local/lib/python3.10/dist-packages (from matplotlib->catboost) (1.2.1)\n",
            "Requirement already satisfied: cycler>=0.10 in /usr/local/lib/python3.10/dist-packages (from matplotlib->catboost) (0.12.1)\n",
            "Requirement already satisfied: fonttools>=4.22.0 in /usr/local/lib/python3.10/dist-packages (from matplotlib->catboost) (4.53.1)\n",
            "Requirement already satisfied: kiwisolver>=1.0.1 in /usr/local/lib/python3.10/dist-packages (from matplotlib->catboost) (1.4.5)\n",
            "Requirement already satisfied: packaging>=20.0 in /usr/local/lib/python3.10/dist-packages (from matplotlib->catboost) (24.1)\n",
            "Requirement already satisfied: pillow>=6.2.0 in /usr/local/lib/python3.10/dist-packages (from matplotlib->catboost) (9.4.0)\n",
            "Requirement already satisfied: pyparsing>=2.3.1 in /usr/local/lib/python3.10/dist-packages (from matplotlib->catboost) (3.1.2)\n",
            "Requirement already satisfied: tenacity>=6.2.0 in /usr/local/lib/python3.10/dist-packages (from plotly->catboost) (8.5.0)\n",
            "Installing collected packages: catboost\n",
            "Successfully installed catboost-1.2.5\n"
          ]
        }
      ],
      "source": [
        "!pip install catboost"
      ]
    },
    {
      "cell_type": "code",
      "execution_count": 28,
      "metadata": {
        "id": "hvQ2VpQpadVL"
      },
      "outputs": [],
      "source": [
        "## import packages\n",
        "import os\n",
        "import numpy as np\n",
        "import pandas as pd\n",
        "import polars as pl\n",
        "from sklearn.metrics import roc_auc_score\n",
        "from sklearn.model_selection import StratifiedKFold\n",
        "from sklearn.ensemble import RandomForestClassifier\n",
        "from catboost import CatBoostClassifier, Pool\n",
        "from xgboost import XGBClassifier\n",
        "from lightgbm import LGBMClassifier\n",
        "import warnings\n",
        "warnings.simplefilter('ignore')\n",
        "\n",
        "os.environ[\"CUDA_VISIBLE_DEVICES\"]= \"0\""
      ]
    },
    {
      "cell_type": "code",
      "execution_count": 29,
      "metadata": {
        "id": "8h2U1i1jdzW0"
      },
      "outputs": [],
      "source": [
        "## load data\n",
        "train = pl.read_csv(r'playground-series-s4e7\\train.csv')\n",
        "test = pl.read_csv(r'playground-series-s4e7\\test.csv')\n",
        "test = test.with_columns(pl.lit(0).cast(pl.Int64).alias('Response'))"
      ]
    },
    {
      "cell_type": "code",
      "execution_count": 32,
      "metadata": {
        "colab": {
          "base_uri": "https://localhost:8080/",
          "height": 443
        },
        "id": "WaRKZMD-ebI9",
        "outputId": "fdef110a-9cc6-4c47-a6e2-a871d2596db4"
      },
      "outputs": [],
      "source": [
        "# 데이터 준비\n",
        "train_data = train.clone()\n",
        "test_data = test.clone()\n",
        "\n",
        "# train_data와 test_data 합치기\n",
        "df = pl.concat([train_data, test_data])\n",
        "\n",
        "df = df.with_columns([\n",
        "    pl.col('Gender').replace({'Male': 0, 'Female': 1}).cast(pl.Int32),\n",
        "    pl.col('Region_Code').cast(int),\n",
        "    pl.col('Vehicle_Age').replace({'< 1 Year': 0, '1-2 Year': 1, '> 2 Years': 2}).cast(pl.Int32),\n",
        "    pl.col('Vehicle_Damage').replace({'No': 0, 'Yes': 1}).cast(pl.Int32),\n",
        "    pl.col('Annual_Premium').cast(int),\n",
        "    pl.col('Policy_Sales_Channel').cast(int)\n",
        "])\n",
        "\n",
        "df = df.with_columns([\n",
        "    pl.Series(pd.factorize((df['Previously_Insured'].cast(str) + df['Annual_Premium'].cast(str)).to_numpy())[0]).alias('Previously_Insured_Annual_Premium'),\n",
        "    pl.Series(pd.factorize((df['Previously_Insured'].cast(str) + df['Vehicle_Age'].cast(str)).to_numpy())[0]).alias('Previously_Insured_Vehicle_Age'),\n",
        "    pl.Series(pd.factorize((df['Previously_Insured'].cast(str) + df['Vehicle_Damage'].cast(str)).to_numpy())[0]).alias('Previously_Insured_Vehicle_Damage'),\n",
        "    pl.Series(pd.factorize((df['Previously_Insured'].cast(str) + df['Vintage'].cast(str)).to_numpy())[0]).alias('Previously_Insured_Vintage')\n",
        "])\n",
        "\n",
        "train_df = df[:train_data.shape[0]].to_pandas()\n",
        "test_df = df[train_data.shape[0]:].to_pandas()\n",
        "\n",
        "cat_features = ['Gender', 'Vehicle_Age', 'Vehicle_Damage', 'Previously_Insured']\n"
      ]
    },
    {
      "cell_type": "code",
      "execution_count": 34,
      "metadata": {
        "colab": {
          "base_uri": "https://localhost:8080/"
        },
        "id": "V4Vdr_b4edPu",
        "outputId": "5abbc05b-62f7-439d-eded-d25ff8ec7143"
      },
      "outputs": [
        {
          "name": "stdout",
          "output_type": "stream",
          "text": [
            "### Fold 1 Training ###\n",
            "[LightGBM] [Info] Number of positive: 1132047, number of negative: 8071791\n",
            "[LightGBM] [Info] This is the GPU trainer!!\n",
            "[LightGBM] [Info] Total Bins 1254\n",
            "[LightGBM] [Info] Number of data points in the train set: 9203838, number of used features: 14\n",
            "[LightGBM] [Info] Using GPU Device: NVIDIA GeForce RTX 3070 Ti, Vendor: NVIDIA Corporation\n",
            "[LightGBM] [Info] Compiling OpenCL Kernel with 256 bins...\n",
            "[LightGBM] [Info] GPU programs have been built\n",
            "[LightGBM] [Info] Size of histogram bin entry: 8\n",
            "[LightGBM] [Info] 13 dense feature groups (140.44 MB) transferred to GPU in 0.068940 secs. 1 sparse feature groups\n",
            "[LightGBM] [Info] [binary:BoostFromScore]: pavg=0.122997 -> initscore=-1.964348\n",
            "[LightGBM] [Info] Start training from score -1.964348\n"
          ]
        },
        {
          "name": "stderr",
          "output_type": "stream",
          "text": [
            "Default metric period is 5 because AUC is/are not implemented for GPU\n"
          ]
        },
        {
          "name": "stdout",
          "output_type": "stream",
          "text": [
            "0:\ttest: 0.8531035\tbest: 0.8531035 (0)\ttotal: 402ms\tremaining: 33m 32s\n",
            "1000:\ttest: 0.8797110\tbest: 0.8797110 (1000)\ttotal: 4m 26s\tremaining: 17m 45s\n",
            "2000:\ttest: 0.8814330\tbest: 0.8814330 (2000)\ttotal: 8m 50s\tremaining: 13m 15s\n",
            "3000:\ttest: 0.8822491\tbest: 0.8822491 (3000)\ttotal: 13m 14s\tremaining: 8m 49s\n",
            "4000:\ttest: 0.8828071\tbest: 0.8828071 (4000)\ttotal: 17m 43s\tremaining: 4m 25s\n",
            "4999:\ttest: 0.8831635\tbest: 0.8831637 (4998)\ttotal: 22m 11s\tremaining: 0us\n",
            "bestTest = 0.8831636906\n",
            "bestIteration = 4998\n",
            "Shrink model to first 4999 iterations.\n",
            "Fold 1 AUC: 0.87733\n",
            "\n",
            "### Fold 2 Training ###\n",
            "[LightGBM] [Info] Number of positive: 1132047, number of negative: 8071791\n",
            "[LightGBM] [Info] This is the GPU trainer!!\n",
            "[LightGBM] [Info] Total Bins 1254\n",
            "[LightGBM] [Info] Number of data points in the train set: 9203838, number of used features: 14\n",
            "[LightGBM] [Info] Using GPU Device: NVIDIA GeForce RTX 3070 Ti, Vendor: NVIDIA Corporation\n",
            "[LightGBM] [Info] Compiling OpenCL Kernel with 256 bins...\n",
            "[LightGBM] [Info] GPU programs have been built\n",
            "[LightGBM] [Info] Size of histogram bin entry: 8\n",
            "[LightGBM] [Info] 13 dense feature groups (140.44 MB) transferred to GPU in 0.066508 secs. 1 sparse feature groups\n",
            "[LightGBM] [Info] [binary:BoostFromScore]: pavg=0.122997 -> initscore=-1.964348\n",
            "[LightGBM] [Info] Start training from score -1.964348\n"
          ]
        },
        {
          "name": "stderr",
          "output_type": "stream",
          "text": [
            "Default metric period is 5 because AUC is/are not implemented for GPU\n"
          ]
        },
        {
          "name": "stdout",
          "output_type": "stream",
          "text": [
            "0:\ttest: 0.8527654\tbest: 0.8527654 (0)\ttotal: 395ms\tremaining: 32m 54s\n",
            "1000:\ttest: 0.8796447\tbest: 0.8796447 (1000)\ttotal: 4m 29s\tremaining: 17m 57s\n",
            "2000:\ttest: 0.8813141\tbest: 0.8813141 (1999)\ttotal: 9m\tremaining: 13m 29s\n",
            "3000:\ttest: 0.8821759\tbest: 0.8821768 (2999)\ttotal: 13m 27s\tremaining: 8m 57s\n",
            "4000:\ttest: 0.8827033\tbest: 0.8827033 (4000)\ttotal: 17m 54s\tremaining: 4m 28s\n",
            "4999:\ttest: 0.8830464\tbest: 0.8830464 (4999)\ttotal: 22m 25s\tremaining: 0us\n",
            "bestTest = 0.8830463886\n",
            "bestIteration = 4999\n",
            "Fold 2 AUC: 0.87723\n",
            "\n",
            "### Fold 3 Training ###\n",
            "[LightGBM] [Info] Number of positive: 1132047, number of negative: 8071791\n",
            "[LightGBM] [Info] This is the GPU trainer!!\n",
            "[LightGBM] [Info] Total Bins 1255\n",
            "[LightGBM] [Info] Number of data points in the train set: 9203838, number of used features: 14\n",
            "[LightGBM] [Info] Using GPU Device: NVIDIA GeForce RTX 3070 Ti, Vendor: NVIDIA Corporation\n",
            "[LightGBM] [Info] Compiling OpenCL Kernel with 256 bins...\n",
            "[LightGBM] [Info] GPU programs have been built\n",
            "[LightGBM] [Info] Size of histogram bin entry: 8\n",
            "[LightGBM] [Info] 13 dense feature groups (140.44 MB) transferred to GPU in 0.070810 secs. 1 sparse feature groups\n",
            "[LightGBM] [Info] [binary:BoostFromScore]: pavg=0.122997 -> initscore=-1.964348\n",
            "[LightGBM] [Info] Start training from score -1.964348\n"
          ]
        },
        {
          "name": "stderr",
          "output_type": "stream",
          "text": [
            "Default metric period is 5 because AUC is/are not implemented for GPU\n"
          ]
        },
        {
          "name": "stdout",
          "output_type": "stream",
          "text": [
            "0:\ttest: 0.8526164\tbest: 0.8526164 (0)\ttotal: 275ms\tremaining: 22m 53s\n",
            "1000:\ttest: 0.8798692\tbest: 0.8798692 (1000)\ttotal: 6m 45s\tremaining: 26m 59s\n",
            "2000:\ttest: 0.8815796\tbest: 0.8815796 (2000)\ttotal: 14m 45s\tremaining: 22m 7s\n",
            "3000:\ttest: 0.8823916\tbest: 0.8823921 (2998)\ttotal: 22m 42s\tremaining: 15m 7s\n",
            "4000:\ttest: 0.8829439\tbest: 0.8829439 (4000)\ttotal: 30m 42s\tremaining: 7m 40s\n",
            "4999:\ttest: 0.8832889\tbest: 0.8832891 (4997)\ttotal: 38m 46s\tremaining: 0us\n",
            "bestTest = 0.8832890987\n",
            "bestIteration = 4997\n",
            "Shrink model to first 4998 iterations.\n",
            "Fold 3 AUC: 0.87741\n",
            "\n",
            "### Fold 4 Training ###\n",
            "[LightGBM] [Info] Number of positive: 1132048, number of negative: 8071791\n",
            "[LightGBM] [Info] This is the GPU trainer!!\n",
            "[LightGBM] [Info] Total Bins 1252\n",
            "[LightGBM] [Info] Number of data points in the train set: 9203839, number of used features: 14\n",
            "[LightGBM] [Info] Using GPU Device: NVIDIA GeForce RTX 3070 Ti, Vendor: NVIDIA Corporation\n",
            "[LightGBM] [Info] Compiling OpenCL Kernel with 256 bins...\n",
            "[LightGBM] [Info] GPU programs have been built\n",
            "[LightGBM] [Info] Size of histogram bin entry: 8\n",
            "[LightGBM] [Info] 13 dense feature groups (140.44 MB) transferred to GPU in 0.069109 secs. 1 sparse feature groups\n",
            "[LightGBM] [Info] [binary:BoostFromScore]: pavg=0.122997 -> initscore=-1.964347\n",
            "[LightGBM] [Info] Start training from score -1.964347\n"
          ]
        },
        {
          "name": "stderr",
          "output_type": "stream",
          "text": [
            "Default metric period is 5 because AUC is/are not implemented for GPU\n"
          ]
        },
        {
          "name": "stdout",
          "output_type": "stream",
          "text": [
            "0:\ttest: 0.8525919\tbest: 0.8525919 (0)\ttotal: 303ms\tremaining: 25m 14s\n",
            "1000:\ttest: 0.8796156\tbest: 0.8796156 (1000)\ttotal: 4m 14s\tremaining: 16m 54s\n",
            "2000:\ttest: 0.8812644\tbest: 0.8812644 (1999)\ttotal: 8m 29s\tremaining: 12m 43s\n",
            "3000:\ttest: 0.8820998\tbest: 0.8820998 (3000)\ttotal: 12m 46s\tremaining: 8m 30s\n",
            "4000:\ttest: 0.8825966\tbest: 0.8825968 (3998)\ttotal: 17m 5s\tremaining: 4m 15s\n",
            "4999:\ttest: 0.8829225\tbest: 0.8829225 (4999)\ttotal: 21m 25s\tremaining: 0us\n",
            "bestTest = 0.8829224706\n",
            "bestIteration = 4999\n",
            "Fold 4 AUC: 0.87716\n",
            "\n",
            "### Fold 5 Training ###\n",
            "[LightGBM] [Info] Number of positive: 1132047, number of negative: 8071792\n",
            "[LightGBM] [Info] This is the GPU trainer!!\n",
            "[LightGBM] [Info] Total Bins 1253\n",
            "[LightGBM] [Info] Number of data points in the train set: 9203839, number of used features: 14\n",
            "[LightGBM] [Info] Using GPU Device: NVIDIA GeForce RTX 3070 Ti, Vendor: NVIDIA Corporation\n",
            "[LightGBM] [Info] Compiling OpenCL Kernel with 256 bins...\n",
            "[LightGBM] [Info] GPU programs have been built\n",
            "[LightGBM] [Info] Size of histogram bin entry: 8\n",
            "[LightGBM] [Info] 13 dense feature groups (140.44 MB) transferred to GPU in 0.077142 secs. 1 sparse feature groups\n",
            "[LightGBM] [Info] [binary:BoostFromScore]: pavg=0.122997 -> initscore=-1.964348\n",
            "[LightGBM] [Info] Start training from score -1.964348\n"
          ]
        },
        {
          "name": "stderr",
          "output_type": "stream",
          "text": [
            "Default metric period is 5 because AUC is/are not implemented for GPU\n"
          ]
        },
        {
          "name": "stdout",
          "output_type": "stream",
          "text": [
            "0:\ttest: 0.8534671\tbest: 0.8534671 (0)\ttotal: 263ms\tremaining: 21m 53s\n",
            "1000:\ttest: 0.8803353\tbest: 0.8803353 (1000)\ttotal: 4m 14s\tremaining: 16m 54s\n",
            "2000:\ttest: 0.8819634\tbest: 0.8819634 (2000)\ttotal: 8m 29s\tremaining: 12m 43s\n",
            "3000:\ttest: 0.8828566\tbest: 0.8828566 (3000)\ttotal: 12m 46s\tremaining: 8m 30s\n",
            "4000:\ttest: 0.8833607\tbest: 0.8833607 (4000)\ttotal: 17m 6s\tremaining: 4m 16s\n",
            "4999:\ttest: 0.8837300\tbest: 0.8837301 (4998)\ttotal: 21m 26s\tremaining: 0us\n",
            "bestTest = 0.8837300539\n",
            "bestIteration = 4998\n",
            "Shrink model to first 4999 iterations.\n",
            "Fold 5 AUC: 0.87780\n",
            "\n",
            "\n",
            "Overall AUC: 0.87739 +/- 0.00022\n"
          ]
        }
      ],
      "source": [
        "# 모델 학습 및 예측\n",
        "aucs = []\n",
        "preds = []\n",
        "\n",
        "X = train_df.drop(['id', 'Response'], axis=1)\n",
        "y = train_df['Response']\n",
        "\n",
        "skf = StratifiedKFold(n_splits=5, shuffle=True, random_state=42)\n",
        "\n",
        "for fold, (train_idx, valid_idx) in enumerate(skf.split(X, y)):\n",
        "    print(f'### Fold {fold+1} Training ###')\n",
        "\n",
        "    X_train = X.iloc[train_idx]\n",
        "    y_train = y.iloc[train_idx]\n",
        "    X_valid = X.iloc[valid_idx]\n",
        "    y_valid = y.iloc[valid_idx]\n",
        "    X_test = test_df[X.columns]\n",
        "\n",
        "    # 랜덤 포레스트 모델 학습\n",
        "    rf_model = RandomForestClassifier(n_estimators=100, random_state=42)\n",
        "    rf_model.fit(X_train, y_train)\n",
        "    rf_pred = rf_model.predict_proba(X_valid)[:, 1]\n",
        "\n",
        "    # XGBoost 모델 학습\n",
        "    xgb_model = XGBClassifier(n_estimators=100, learning_rate=0.05, random_state=42, tree_method='gpu_hist')\n",
        "    xgb_model.fit(X_train, y_train)\n",
        "    xgb_pred = xgb_model.predict_proba(X_valid)[:, 1]\n",
        "\n",
        "    # LightGBM 모델 학습\n",
        "    lgbm_model = LGBMClassifier(n_estimators=100, learning_rate=0.05, random_state=42, device='gpu')\n",
        "    lgbm_model.fit(X_train, y_train)\n",
        "    lgbm_pred = lgbm_model.predict_proba(X_valid)[:, 1]\n",
        "\n",
        "    # CatBoost 모델 학습\n",
        "    X_train_pool = Pool(X_train, y_train, cat_features=cat_features)\n",
        "    X_valid_pool = Pool(X_valid, y_valid, cat_features=cat_features)\n",
        "    cat_model = CatBoostClassifier(\n",
        "        loss_function='Logloss',\n",
        "        eval_metric='AUC',\n",
        "        learning_rate=0.05,\n",
        "        iterations=5000,\n",
        "        depth=9,\n",
        "        random_strength=0,\n",
        "        l2_leaf_reg=0.5,\n",
        "        task_type='GPU',\n",
        "        random_seed=42,\n",
        "        verbose=False\n",
        "    )\n",
        "    cat_model.fit(X=X_train_pool, eval_set=X_valid_pool, verbose=1000, early_stopping_rounds=200)\n",
        "    cat_pred = cat_model.predict_proba(X_valid_pool)[:, 1]\n",
        "\n",
        "    # 앙상블 예측 (평균)\n",
        "    ensemble_pred = (rf_pred + xgb_pred + lgbm_pred + cat_pred) / 4\n",
        "\n",
        "    # AUC 계산\n",
        "    auc = roc_auc_score(y_valid, ensemble_pred)\n",
        "    aucs.append(auc)\n",
        "\n",
        "    print(f'Fold {fold+1} AUC: {auc:.5f}\\n')\n",
        "\n",
        "print(f'\\nOverall AUC: {np.mean(aucs):.5f} +/- {np.std(aucs):.5f}')"
      ]
    },
    {
      "cell_type": "code",
      "execution_count": 35,
      "metadata": {
        "colab": {
          "base_uri": "https://localhost:8080/",
          "height": 423
        },
        "id": "SBgvMztaei1m",
        "outputId": "18928d42-df7f-4db8-8355-fdf43bf8e409"
      },
      "outputs": [
        {
          "ename": "OSError",
          "evalue": "Cannot save file into a non-existent directory: '\\content\\drive\\MyDrive\\Colab Notebooks\\kaggle\\insurance_selling'",
          "output_type": "error",
          "traceback": [
            "\u001b[1;31m---------------------------------------------------------------------------\u001b[0m",
            "\u001b[1;31mOSError\u001b[0m                                   Traceback (most recent call last)",
            "Cell \u001b[1;32mIn[35], line 5\u001b[0m\n\u001b[0;32m      2\u001b[0m submission \u001b[38;5;241m=\u001b[39m test_df[[\u001b[38;5;124m'\u001b[39m\u001b[38;5;124mid\u001b[39m\u001b[38;5;124m'\u001b[39m]]\n\u001b[0;32m      3\u001b[0m submission[\u001b[38;5;124m'\u001b[39m\u001b[38;5;124mResponse\u001b[39m\u001b[38;5;124m'\u001b[39m] \u001b[38;5;241m=\u001b[39m np\u001b[38;5;241m.\u001b[39mmean(preds, axis\u001b[38;5;241m=\u001b[39m\u001b[38;5;241m0\u001b[39m)\n\u001b[1;32m----> 5\u001b[0m \u001b[43msubmission\u001b[49m\u001b[38;5;241;43m.\u001b[39;49m\u001b[43mto_csv\u001b[49m\u001b[43m(\u001b[49m\u001b[38;5;124;43m'\u001b[39;49m\u001b[38;5;124;43m/content/drive/MyDrive/Colab Notebooks/kaggle/insurance_selling/submission_240716.csv\u001b[39;49m\u001b[38;5;124;43m'\u001b[39;49m\u001b[43m,\u001b[49m\u001b[43m \u001b[49m\u001b[43mindex\u001b[49m\u001b[38;5;241;43m=\u001b[39;49m\u001b[38;5;28;43;01mFalse\u001b[39;49;00m\u001b[43m)\u001b[49m\n\u001b[0;32m      6\u001b[0m submission\n",
            "File \u001b[1;32mc:\\Users\\kuun1\\miniconda3\\envs\\kaaaagle\\lib\\site-packages\\pandas\\core\\generic.py:3772\u001b[0m, in \u001b[0;36mNDFrame.to_csv\u001b[1;34m(self, path_or_buf, sep, na_rep, float_format, columns, header, index, index_label, mode, encoding, compression, quoting, quotechar, lineterminator, chunksize, date_format, doublequote, escapechar, decimal, errors, storage_options)\u001b[0m\n\u001b[0;32m   3761\u001b[0m df \u001b[38;5;241m=\u001b[39m \u001b[38;5;28mself\u001b[39m \u001b[38;5;28;01mif\u001b[39;00m \u001b[38;5;28misinstance\u001b[39m(\u001b[38;5;28mself\u001b[39m, ABCDataFrame) \u001b[38;5;28;01melse\u001b[39;00m \u001b[38;5;28mself\u001b[39m\u001b[38;5;241m.\u001b[39mto_frame()\n\u001b[0;32m   3763\u001b[0m formatter \u001b[38;5;241m=\u001b[39m DataFrameFormatter(\n\u001b[0;32m   3764\u001b[0m     frame\u001b[38;5;241m=\u001b[39mdf,\n\u001b[0;32m   3765\u001b[0m     header\u001b[38;5;241m=\u001b[39mheader,\n\u001b[1;32m   (...)\u001b[0m\n\u001b[0;32m   3769\u001b[0m     decimal\u001b[38;5;241m=\u001b[39mdecimal,\n\u001b[0;32m   3770\u001b[0m )\n\u001b[1;32m-> 3772\u001b[0m \u001b[38;5;28;01mreturn\u001b[39;00m \u001b[43mDataFrameRenderer\u001b[49m\u001b[43m(\u001b[49m\u001b[43mformatter\u001b[49m\u001b[43m)\u001b[49m\u001b[38;5;241;43m.\u001b[39;49m\u001b[43mto_csv\u001b[49m\u001b[43m(\u001b[49m\n\u001b[0;32m   3773\u001b[0m \u001b[43m    \u001b[49m\u001b[43mpath_or_buf\u001b[49m\u001b[43m,\u001b[49m\n\u001b[0;32m   3774\u001b[0m \u001b[43m    \u001b[49m\u001b[43mlineterminator\u001b[49m\u001b[38;5;241;43m=\u001b[39;49m\u001b[43mlineterminator\u001b[49m\u001b[43m,\u001b[49m\n\u001b[0;32m   3775\u001b[0m \u001b[43m    \u001b[49m\u001b[43msep\u001b[49m\u001b[38;5;241;43m=\u001b[39;49m\u001b[43msep\u001b[49m\u001b[43m,\u001b[49m\n\u001b[0;32m   3776\u001b[0m \u001b[43m    \u001b[49m\u001b[43mencoding\u001b[49m\u001b[38;5;241;43m=\u001b[39;49m\u001b[43mencoding\u001b[49m\u001b[43m,\u001b[49m\n\u001b[0;32m   3777\u001b[0m \u001b[43m    \u001b[49m\u001b[43merrors\u001b[49m\u001b[38;5;241;43m=\u001b[39;49m\u001b[43merrors\u001b[49m\u001b[43m,\u001b[49m\n\u001b[0;32m   3778\u001b[0m \u001b[43m    \u001b[49m\u001b[43mcompression\u001b[49m\u001b[38;5;241;43m=\u001b[39;49m\u001b[43mcompression\u001b[49m\u001b[43m,\u001b[49m\n\u001b[0;32m   3779\u001b[0m \u001b[43m    \u001b[49m\u001b[43mquoting\u001b[49m\u001b[38;5;241;43m=\u001b[39;49m\u001b[43mquoting\u001b[49m\u001b[43m,\u001b[49m\n\u001b[0;32m   3780\u001b[0m \u001b[43m    \u001b[49m\u001b[43mcolumns\u001b[49m\u001b[38;5;241;43m=\u001b[39;49m\u001b[43mcolumns\u001b[49m\u001b[43m,\u001b[49m\n\u001b[0;32m   3781\u001b[0m \u001b[43m    \u001b[49m\u001b[43mindex_label\u001b[49m\u001b[38;5;241;43m=\u001b[39;49m\u001b[43mindex_label\u001b[49m\u001b[43m,\u001b[49m\n\u001b[0;32m   3782\u001b[0m \u001b[43m    \u001b[49m\u001b[43mmode\u001b[49m\u001b[38;5;241;43m=\u001b[39;49m\u001b[43mmode\u001b[49m\u001b[43m,\u001b[49m\n\u001b[0;32m   3783\u001b[0m \u001b[43m    \u001b[49m\u001b[43mchunksize\u001b[49m\u001b[38;5;241;43m=\u001b[39;49m\u001b[43mchunksize\u001b[49m\u001b[43m,\u001b[49m\n\u001b[0;32m   3784\u001b[0m \u001b[43m    \u001b[49m\u001b[43mquotechar\u001b[49m\u001b[38;5;241;43m=\u001b[39;49m\u001b[43mquotechar\u001b[49m\u001b[43m,\u001b[49m\n\u001b[0;32m   3785\u001b[0m \u001b[43m    \u001b[49m\u001b[43mdate_format\u001b[49m\u001b[38;5;241;43m=\u001b[39;49m\u001b[43mdate_format\u001b[49m\u001b[43m,\u001b[49m\n\u001b[0;32m   3786\u001b[0m \u001b[43m    \u001b[49m\u001b[43mdoublequote\u001b[49m\u001b[38;5;241;43m=\u001b[39;49m\u001b[43mdoublequote\u001b[49m\u001b[43m,\u001b[49m\n\u001b[0;32m   3787\u001b[0m \u001b[43m    \u001b[49m\u001b[43mescapechar\u001b[49m\u001b[38;5;241;43m=\u001b[39;49m\u001b[43mescapechar\u001b[49m\u001b[43m,\u001b[49m\n\u001b[0;32m   3788\u001b[0m \u001b[43m    \u001b[49m\u001b[43mstorage_options\u001b[49m\u001b[38;5;241;43m=\u001b[39;49m\u001b[43mstorage_options\u001b[49m\u001b[43m,\u001b[49m\n\u001b[0;32m   3789\u001b[0m \u001b[43m\u001b[49m\u001b[43m)\u001b[49m\n",
            "File \u001b[1;32mc:\\Users\\kuun1\\miniconda3\\envs\\kaaaagle\\lib\\site-packages\\pandas\\io\\formats\\format.py:1186\u001b[0m, in \u001b[0;36mDataFrameRenderer.to_csv\u001b[1;34m(self, path_or_buf, encoding, sep, columns, index_label, mode, compression, quoting, quotechar, lineterminator, chunksize, date_format, doublequote, escapechar, errors, storage_options)\u001b[0m\n\u001b[0;32m   1165\u001b[0m     created_buffer \u001b[38;5;241m=\u001b[39m \u001b[38;5;28;01mFalse\u001b[39;00m\n\u001b[0;32m   1167\u001b[0m csv_formatter \u001b[38;5;241m=\u001b[39m CSVFormatter(\n\u001b[0;32m   1168\u001b[0m     path_or_buf\u001b[38;5;241m=\u001b[39mpath_or_buf,\n\u001b[0;32m   1169\u001b[0m     lineterminator\u001b[38;5;241m=\u001b[39mlineterminator,\n\u001b[1;32m   (...)\u001b[0m\n\u001b[0;32m   1184\u001b[0m     formatter\u001b[38;5;241m=\u001b[39m\u001b[38;5;28mself\u001b[39m\u001b[38;5;241m.\u001b[39mfmt,\n\u001b[0;32m   1185\u001b[0m )\n\u001b[1;32m-> 1186\u001b[0m \u001b[43mcsv_formatter\u001b[49m\u001b[38;5;241;43m.\u001b[39;49m\u001b[43msave\u001b[49m\u001b[43m(\u001b[49m\u001b[43m)\u001b[49m\n\u001b[0;32m   1188\u001b[0m \u001b[38;5;28;01mif\u001b[39;00m created_buffer:\n\u001b[0;32m   1189\u001b[0m     \u001b[38;5;28;01massert\u001b[39;00m \u001b[38;5;28misinstance\u001b[39m(path_or_buf, StringIO)\n",
            "File \u001b[1;32mc:\\Users\\kuun1\\miniconda3\\envs\\kaaaagle\\lib\\site-packages\\pandas\\io\\formats\\csvs.py:240\u001b[0m, in \u001b[0;36mCSVFormatter.save\u001b[1;34m(self)\u001b[0m\n\u001b[0;32m    236\u001b[0m \u001b[38;5;250m\u001b[39m\u001b[38;5;124;03m\"\"\"\u001b[39;00m\n\u001b[0;32m    237\u001b[0m \u001b[38;5;124;03mCreate the writer & save.\u001b[39;00m\n\u001b[0;32m    238\u001b[0m \u001b[38;5;124;03m\"\"\"\u001b[39;00m\n\u001b[0;32m    239\u001b[0m \u001b[38;5;66;03m# apply compression and byte/text conversion\u001b[39;00m\n\u001b[1;32m--> 240\u001b[0m \u001b[38;5;28;01mwith\u001b[39;00m \u001b[43mget_handle\u001b[49m\u001b[43m(\u001b[49m\n\u001b[0;32m    241\u001b[0m \u001b[43m    \u001b[49m\u001b[38;5;28;43mself\u001b[39;49m\u001b[38;5;241;43m.\u001b[39;49m\u001b[43mfilepath_or_buffer\u001b[49m\u001b[43m,\u001b[49m\n\u001b[0;32m    242\u001b[0m \u001b[43m    \u001b[49m\u001b[38;5;28;43mself\u001b[39;49m\u001b[38;5;241;43m.\u001b[39;49m\u001b[43mmode\u001b[49m\u001b[43m,\u001b[49m\n\u001b[0;32m    243\u001b[0m \u001b[43m    \u001b[49m\u001b[43mencoding\u001b[49m\u001b[38;5;241;43m=\u001b[39;49m\u001b[38;5;28;43mself\u001b[39;49m\u001b[38;5;241;43m.\u001b[39;49m\u001b[43mencoding\u001b[49m\u001b[43m,\u001b[49m\n\u001b[0;32m    244\u001b[0m \u001b[43m    \u001b[49m\u001b[43merrors\u001b[49m\u001b[38;5;241;43m=\u001b[39;49m\u001b[38;5;28;43mself\u001b[39;49m\u001b[38;5;241;43m.\u001b[39;49m\u001b[43merrors\u001b[49m\u001b[43m,\u001b[49m\n\u001b[0;32m    245\u001b[0m \u001b[43m    \u001b[49m\u001b[43mcompression\u001b[49m\u001b[38;5;241;43m=\u001b[39;49m\u001b[38;5;28;43mself\u001b[39;49m\u001b[38;5;241;43m.\u001b[39;49m\u001b[43mcompression\u001b[49m\u001b[43m,\u001b[49m\n\u001b[0;32m    246\u001b[0m \u001b[43m    \u001b[49m\u001b[43mstorage_options\u001b[49m\u001b[38;5;241;43m=\u001b[39;49m\u001b[38;5;28;43mself\u001b[39;49m\u001b[38;5;241;43m.\u001b[39;49m\u001b[43mstorage_options\u001b[49m\u001b[43m,\u001b[49m\n\u001b[0;32m    247\u001b[0m \u001b[43m\u001b[49m\u001b[43m)\u001b[49m \u001b[38;5;28;01mas\u001b[39;00m handles:\n\u001b[0;32m    248\u001b[0m     \u001b[38;5;66;03m# Note: self.encoding is irrelevant here\u001b[39;00m\n\u001b[0;32m    249\u001b[0m     \u001b[38;5;28mself\u001b[39m\u001b[38;5;241m.\u001b[39mwriter \u001b[38;5;241m=\u001b[39m csvlib\u001b[38;5;241m.\u001b[39mwriter(\n\u001b[0;32m    250\u001b[0m         handles\u001b[38;5;241m.\u001b[39mhandle,\n\u001b[0;32m    251\u001b[0m         lineterminator\u001b[38;5;241m=\u001b[39m\u001b[38;5;28mself\u001b[39m\u001b[38;5;241m.\u001b[39mlineterminator,\n\u001b[1;32m   (...)\u001b[0m\n\u001b[0;32m    256\u001b[0m         quotechar\u001b[38;5;241m=\u001b[39m\u001b[38;5;28mself\u001b[39m\u001b[38;5;241m.\u001b[39mquotechar,\n\u001b[0;32m    257\u001b[0m     )\n\u001b[0;32m    259\u001b[0m     \u001b[38;5;28mself\u001b[39m\u001b[38;5;241m.\u001b[39m_save()\n",
            "File \u001b[1;32mc:\\Users\\kuun1\\miniconda3\\envs\\kaaaagle\\lib\\site-packages\\pandas\\io\\common.py:737\u001b[0m, in \u001b[0;36mget_handle\u001b[1;34m(path_or_buf, mode, encoding, compression, memory_map, is_text, errors, storage_options)\u001b[0m\n\u001b[0;32m    735\u001b[0m \u001b[38;5;66;03m# Only for write methods\u001b[39;00m\n\u001b[0;32m    736\u001b[0m \u001b[38;5;28;01mif\u001b[39;00m \u001b[38;5;124m\"\u001b[39m\u001b[38;5;124mr\u001b[39m\u001b[38;5;124m\"\u001b[39m \u001b[38;5;129;01mnot\u001b[39;00m \u001b[38;5;129;01min\u001b[39;00m mode \u001b[38;5;129;01mand\u001b[39;00m is_path:\n\u001b[1;32m--> 737\u001b[0m     \u001b[43mcheck_parent_directory\u001b[49m\u001b[43m(\u001b[49m\u001b[38;5;28;43mstr\u001b[39;49m\u001b[43m(\u001b[49m\u001b[43mhandle\u001b[49m\u001b[43m)\u001b[49m\u001b[43m)\u001b[49m\n\u001b[0;32m    739\u001b[0m \u001b[38;5;28;01mif\u001b[39;00m compression:\n\u001b[0;32m    740\u001b[0m     \u001b[38;5;28;01mif\u001b[39;00m compression \u001b[38;5;241m!=\u001b[39m \u001b[38;5;124m\"\u001b[39m\u001b[38;5;124mzstd\u001b[39m\u001b[38;5;124m\"\u001b[39m:\n\u001b[0;32m    741\u001b[0m         \u001b[38;5;66;03m# compression libraries do not like an explicit text-mode\u001b[39;00m\n",
            "File \u001b[1;32mc:\\Users\\kuun1\\miniconda3\\envs\\kaaaagle\\lib\\site-packages\\pandas\\io\\common.py:600\u001b[0m, in \u001b[0;36mcheck_parent_directory\u001b[1;34m(path)\u001b[0m\n\u001b[0;32m    598\u001b[0m parent \u001b[38;5;241m=\u001b[39m Path(path)\u001b[38;5;241m.\u001b[39mparent\n\u001b[0;32m    599\u001b[0m \u001b[38;5;28;01mif\u001b[39;00m \u001b[38;5;129;01mnot\u001b[39;00m parent\u001b[38;5;241m.\u001b[39mis_dir():\n\u001b[1;32m--> 600\u001b[0m     \u001b[38;5;28;01mraise\u001b[39;00m \u001b[38;5;167;01mOSError\u001b[39;00m(\u001b[38;5;124mrf\u001b[39m\u001b[38;5;124m\"\u001b[39m\u001b[38;5;124mCannot save file into a non-existent directory: \u001b[39m\u001b[38;5;124m'\u001b[39m\u001b[38;5;132;01m{\u001b[39;00mparent\u001b[38;5;132;01m}\u001b[39;00m\u001b[38;5;124m'\u001b[39m\u001b[38;5;124m\"\u001b[39m)\n",
            "\u001b[1;31mOSError\u001b[0m: Cannot save file into a non-existent directory: '\\content\\drive\\MyDrive\\Colab Notebooks\\kaggle\\insurance_selling'"
          ]
        }
      ],
      "source": [
        "## create submission\n",
        "submission = test_df[['id']]\n",
        "submission['Response'] = np.mean(preds, axis=0)\n",
        "\n",
        "submission.to_csv('/content/drive/MyDrive/Colab Notebooks/kaggle/insurance_selling/submission_240716.csv', index=False)\n",
        "submission"
      ]
    }
  ],
  "metadata": {
    "accelerator": "GPU",
    "colab": {
      "gpuType": "L4",
      "machine_shape": "hm",
      "provenance": []
    },
    "kernelspec": {
      "display_name": "Python 3",
      "name": "python3"
    },
    "language_info": {
      "codemirror_mode": {
        "name": "ipython",
        "version": 3
      },
      "file_extension": ".py",
      "mimetype": "text/x-python",
      "name": "python",
      "nbconvert_exporter": "python",
      "pygments_lexer": "ipython3",
      "version": "3.8.19"
    }
  },
  "nbformat": 4,
  "nbformat_minor": 0
}
